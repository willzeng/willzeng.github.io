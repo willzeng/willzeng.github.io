{
 "cells": [
  {
   "cell_type": "code",
   "execution_count": 1,
   "id": "e0f7ae21",
   "metadata": {},
   "outputs": [],
   "source": [
    "import numpy as np\n",
    "\n",
    "from pyquil.wavefunction import Wavefunction\n",
    "# We'll use pyQuil's Wavefunction class to pretty print\n",
    "def pprint(wvf : np.ndarray):\n",
    "    print(Wavefunction(wvf))"
   ]
  },
  {
   "cell_type": "markdown",
   "id": "981dbfc2",
   "metadata": {},
   "source": [
    "We'll show that quantum mechanics supports this contradiction by giving a specific example of a system state and measurement configurations for Alice, Bob, Charlie, Debbie.\n",
    "\n",
    "The system will be defined as an even superposition between the $|00\\rangle$, $|01\\rangle$, and $|10\\rangle$ states."
   ]
  },
  {
   "cell_type": "code",
   "execution_count": 2,
   "id": "bd94f943",
   "metadata": {},
   "outputs": [
    {
     "name": "stdout",
     "output_type": "stream",
     "text": [
      "(0.5773502692+0j)|00> + (0.5773502692+0j)|01> + (0.5773502692+0j)|10>\n"
     ]
    }
   ],
   "source": [
    "sys = 1/np.sqrt(3) * np.array([1, 1, 1, 0])\n",
    "pprint(sys)"
   ]
  },
  {
   "cell_type": "markdown",
   "id": "924762e7",
   "metadata": {},
   "source": [
    "The measurement settings will be defined by observables in the usual computational and X basis."
   ]
  },
  {
   "cell_type": "code",
   "execution_count": 3,
   "id": "de8b756b",
   "metadata": {},
   "outputs": [
    {
     "name": "stdout",
     "output_type": "stream",
     "text": [
      "(1+0j)|0>\n",
      "(1+0j)|1>\n"
     ]
    }
   ],
   "source": [
    "zero = np.asarray([1, 0])\n",
    "one = np.asarray([0, 1])\n",
    "basis = [zero, one]\n",
    "_ = [pprint(ee) for ee in basis]"
   ]
  },
  {
   "cell_type": "code",
   "execution_count": 10,
   "id": "dec06101",
   "metadata": {},
   "outputs": [
    {
     "name": "stdout",
     "output_type": "stream",
     "text": [
      "(0.7071067812+0j)|0> + (0.7071067812+0j)|1>\n",
      "(0.7071067812+0j)|0> + (-0.7071067812+0j)|1>\n"
     ]
    }
   ],
   "source": [
    "# We can define the X basis by applying the Hadamard transform\n",
    "hadamard = 1/np.sqrt(2) * np.asarray([[1, 1], [1, -1]])\n",
    "xbasis = [hadamard@ee for ee in basis]\n",
    "_ = [pprint(ee) for ee in xbasis]"
   ]
  },
  {
   "cell_type": "markdown",
   "id": "a61962af",
   "metadata": {},
   "source": [
    "Now, for each of Alice and Bob, we will define observables that correspond to those bases. Recall from the scenario set up, that is we set x or y to 1 then Alice and Bob will open up their respective friend's laboratories and ask for the result of Charlie's (or Debbie's) computational basis measurement. This corresponds to looking at a computational measurement in the standard basis.\n",
    "\n",
    "When x or y is instead set to 2, then Alice (or Bob) will make a measurement of their friend's laboratory in the X basis. In practice this could be achieved by doing a Hadamard gate on the joint system of the friend and the part of the system S that they have in their lab."
   ]
  },
  {
   "cell_type": "code",
   "execution_count": 11,
   "id": "9a92788d",
   "metadata": {},
   "outputs": [],
   "source": [
    "def observable(x):\n",
    "    if x == 1:\n",
    "        return basis\n",
    "    if x == 2:\n",
    "        return xbasis"
   ]
  },
  {
   "cell_type": "markdown",
   "id": "79232469",
   "metadata": {},
   "source": [
    "Next we need a few helper functions to implement the standard Born rule from quantum mechanics. The `prob` function will now tell us the probability of an outcome given by a projector to be obtained from an underlying state."
   ]
  },
  {
   "cell_type": "code",
   "execution_count": 7,
   "id": "01cab2be",
   "metadata": {},
   "outputs": [],
   "source": [
    "def dagger(state : np.ndarray) -> np.ndarray:\n",
    "    return np.conj(np.transpose(state))\n",
    "\n",
    "def prob(proj, state):\n",
    "    return dagger(state)@proj@state"
   ]
  },
  {
   "cell_type": "markdown",
   "id": "cdc860a2",
   "metadata": {},
   "source": [
    "We now have enough to calculate the probabilities for different bit outcomes for Alice (a) and Bob (b) under their respective measurement settings x and y."
   ]
  },
  {
   "cell_type": "code",
   "execution_count": 12,
   "id": "a0dde5b6",
   "metadata": {},
   "outputs": [],
   "source": [
    "def experiment(a, b, x, y):\n",
    "    # measurement projector for Alice\n",
    "    proj_A = np.outer(observable(x)[a], observable(x)[a])\n",
    "    # measurement projector for Bob\n",
    "    proj_B = np.outer(observable(y)[b], observable(y)[b])\n",
    "    proj = np.kron(proj_A, proj_B)\n",
    "    return prob(proj, sys)"
   ]
  },
  {
   "cell_type": "markdown",
   "id": "001d76ad",
   "metadata": {},
   "source": [
    "For example we can look at the probability that Alice and Bob both get a 1 when they have both set their measurement settings to 2. As this is non-zero we would mark this as a possible outcome. Note that this is event $E_1$ that we need to be possible for a contradiction."
   ]
  },
  {
   "cell_type": "code",
   "execution_count": 9,
   "id": "28babe66",
   "metadata": {},
   "outputs": [
    {
     "data": {
      "text/plain": [
       "0.08333333333333333"
      ]
     },
     "execution_count": 9,
     "metadata": {},
     "output_type": "execute_result"
    }
   ],
   "source": [
    "experiment(a=1, b=1, x=2, y=2)"
   ]
  },
  {
   "cell_type": "markdown",
   "id": "92f82759",
   "metadata": {},
   "source": [
    "We can now check to see if events $E_2$, $E_3$, and $E_4$ are impossible (have probability 0). If they are impossible then we have all the needed events for the contradiction described in the previous section."
   ]
  },
  {
   "cell_type": "code",
   "execution_count": 14,
   "id": "f7f22e16",
   "metadata": {},
   "outputs": [
    {
     "name": "stdout",
     "output_type": "stream",
     "text": [
      "E_2 probability is:  0.0\n",
      "E_3 probability is:  0.0\n",
      "E_4 probability is:  0.0\n"
     ]
    }
   ],
   "source": [
    "print(\"E_2 probability is: \", experiment(a=0, b=1, x=1, y=2))\n",
    "print(\"E_3 probability is: \", experiment(a=1, b=0, x=2, y=1))\n",
    "print(\"E_4 probability is: \", experiment(a=1, b=1, x=1, y=1))"
   ]
  },
  {
   "cell_type": "markdown",
   "id": "ca5cb22f",
   "metadata": {},
   "source": [
    "Thus quantum mechanics supports a Probabilistic Extended Wigner's Friend Scenario contradiction between the assumptions of Absoluteness of Observed Events and Probabilistic Local Agency."
   ]
  },
  {
   "cell_type": "code",
   "execution_count": null,
   "id": "96316e5d",
   "metadata": {},
   "outputs": [],
   "source": []
  }
 ],
 "metadata": {
  "kernelspec": {
   "display_name": "Python 3 (ipykernel)",
   "language": "python",
   "name": "python3"
  },
  "language_info": {
   "codemirror_mode": {
    "name": "ipython",
    "version": 3
   },
   "file_extension": ".py",
   "mimetype": "text/x-python",
   "name": "python",
   "nbconvert_exporter": "python",
   "pygments_lexer": "ipython3",
   "version": "3.7.3"
  }
 },
 "nbformat": 4,
 "nbformat_minor": 5
}
